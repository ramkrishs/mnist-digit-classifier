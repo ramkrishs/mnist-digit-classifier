{
  "cells": [
    {
      "cell_type": "markdown",
      "metadata": {
        "id": "KcXcHhn-Nqlq"
      },
      "source": [
        "# Task 1: Introduction\n",
        "\n",
        "Image Classification with TensorFlow.\n",
        "\n",
        "This graph describes the problem that we are trying to solve visually. We want to create and train a model that takes an image of a hand written digit as input and predicts the class of that digit, that is, it predicts the digit or it predicts the class of the input image."
      ]
    },
    {
      "cell_type": "markdown",
      "metadata": {
        "id": "QEtPggA-Nqlr"
      },
      "source": [
        "### Import TensorFlow"
      ]
    },
    {
      "cell_type": "code",
      "execution_count": 2,
      "metadata": {
        "colab": {
          "base_uri": "https://localhost:8080/"
        },
        "id": "sI4b8HVNNqls",
        "outputId": "5b80b7a6-85f4-4c14-ba1b-64c460db1537"
      },
      "outputs": [
        {
          "output_type": "stream",
          "name": "stdout",
          "text": [
            "Using TensorFlow version 2.15.0\n"
          ]
        }
      ],
      "source": [
        "# Import TensorFlow and set the logging verbosity to error level.\n",
        "import tensorflow as tf\n",
        "\n",
        "\n",
        "print('Using TensorFlow version', tf.__version__)\n"
      ]
    },
    {
      "cell_type": "markdown",
      "metadata": {
        "id": "xlDG9BYJNqlt"
      },
      "source": [
        "# Task 2: The Dataset\n",
        "### Import MNIST"
      ]
    },
    {
      "cell_type": "code",
      "execution_count": 3,
      "metadata": {
        "colab": {
          "base_uri": "https://localhost:8080/"
        },
        "id": "gVBVpSI_Nqlt",
        "outputId": "a21f152a-0011-4ea3-c254-48f63ff7c012"
      },
      "outputs": [
        {
          "output_type": "stream",
          "name": "stdout",
          "text": [
            "Downloading data from https://storage.googleapis.com/tensorflow/tf-keras-datasets/mnist.npz\n",
            "11490434/11490434 [==============================] - 0s 0us/step\n"
          ]
        }
      ],
      "source": [
        "# Import the MNIST dataset from TensorFlow Keras datasets.\n",
        "from tensorflow.keras.datasets import mnist\n",
        "\n",
        "# Load the dataset into training and testing sets.\n",
        "(x_train, y_train), (x_test, y_test) = mnist.load_data()"
      ]
    },
    {
      "cell_type": "markdown",
      "metadata": {
        "id": "W2bWkA1bNqlt"
      },
      "source": [
        "### Shapes of Imported Arrays"
      ]
    },
    {
      "cell_type": "code",
      "execution_count": 4,
      "metadata": {
        "colab": {
          "base_uri": "https://localhost:8080/"
        },
        "id": "8VGirOnnNqlt",
        "outputId": "377164c4-33ca-4a43-c7b8-6b65bab1ccbe"
      },
      "outputs": [
        {
          "output_type": "stream",
          "name": "stdout",
          "text": [
            "x_train shape: (60000, 28, 28)\n",
            "y_train shape: (60000,)\n",
            "x_test shape: (10000, 28, 28)\n",
            "y_test shape: (10000,)\n"
          ]
        }
      ],
      "source": [
        "# Print the shapes of the loaded arrays to understand the dataset structure.\n",
        "print('x_train shape:', x_train.shape)\n",
        "print('y_train shape:', y_train.shape)\n",
        "print('x_test shape:', x_test.shape)\n",
        "print('y_test shape:', y_test.shape)"
      ]
    },
    {
      "cell_type": "markdown",
      "metadata": {
        "id": "Wv7u_BvKNqlt"
      },
      "source": [
        "### Plot an Image Example"
      ]
    },
    {
      "cell_type": "code",
      "execution_count": 5,
      "metadata": {
        "colab": {
          "base_uri": "https://localhost:8080/",
          "height": 430
        },
        "id": "_1kXQhuFNqlu",
        "outputId": "5319702a-4c53-4665-ab73-0ae6abff087d"
      },
      "outputs": [
        {
          "output_type": "display_data",
          "data": {
            "text/plain": [
              "<Figure size 640x480 with 1 Axes>"
            ],
            "image/png": "[encoded data removed]"
          },
          "metadata": {}
        }
      ],
      "source": [
        "# Plot an example image from the training set to visualize the data.\n",
        "from matplotlib import pyplot as plt\n",
        "\n",
        "plt.imshow(x_train[0], cmap='gray')\n",
        "plt.show()"
      ]
    },
    {
      "cell_type": "markdown",
      "metadata": {
        "id": "sWjDPbaWNqlu"
      },
      "source": [
        "### Display Labels"
      ]
    },
    {
      "cell_type": "code",
      "execution_count": 6,
      "metadata": {
        "colab": {
          "base_uri": "https://localhost:8080/"
        },
        "id": "IwusJJGpNqlu",
        "outputId": "26db6541-abd8-4406-e753-55a88ebbee12"
      },
      "outputs": [
        {
          "output_type": "execute_result",
          "data": {
            "text/plain": [
              "5"
            ]
          },
          "metadata": {},
          "execution_count": 6
        }
      ],
      "source": [
        "y_train[0]"
      ]
    },
    {
      "cell_type": "code",
      "execution_count": 7,
      "metadata": {
        "colab": {
          "base_uri": "https://localhost:8080/"
        },
        "id": "rfB9lbZuNqlu",
        "outputId": "c660a2e4-4235-4ca1-8585-0fdcf10ea685"
      },
      "outputs": [
        {
          "output_type": "stream",
          "name": "stdout",
          "text": [
            "Unique labels in y_train: {0, 1, 2, 3, 4, 5, 6, 7, 8, 9}\n"
          ]
        }
      ],
      "source": [
        "# Display the unique labels in the training set to understand the classification categories.\n",
        "print('Unique labels in y_train:', set(y_train))\n"
      ]
    },
    {
      "cell_type": "markdown",
      "metadata": {
        "id": "fO3PV6FJNqlu"
      },
      "source": [
        "# Task 3: One Hot Encoding\n",
        "After this encoding, every label will be converted to a list with 10 elements and the element at index to the corresponding class will be set to 1, rest will be set to 0:\n",
        "\n",
        "| original label | one-hot encoded label |\n",
        "|------|------|\n",
        "| 5 | [0, 0, 0, 0, 0, 1, 0, 0, 0, 0] |\n",
        "| 7 | [0, 0, 0, 0, 0, 0, 0, 1, 0, 0] |\n",
        "| 1 | [0, 1, 0, 0, 0, 0, 0, 0, 0, 0] |\n",
        "\n",
        "### Encoding Labels"
      ]
    },
    {
      "cell_type": "code",
      "execution_count": 8,
      "metadata": {
        "id": "kKllkBw9Nqlv"
      },
      "outputs": [],
      "source": [
        "# Convert labels to one-hot encoded format for compatibility with categorical crossentropy loss.\n",
        "from tensorflow.keras.utils import to_categorical\n",
        "\n",
        "\n",
        "y_train_encoded = to_categorical(y_train)\n",
        "y_test_encoded = to_categorical(y_test)"
      ]
    },
    {
      "cell_type": "markdown",
      "metadata": {
        "id": "VNDplGAwNqlv"
      },
      "source": [
        "### Validated Shapes"
      ]
    },
    {
      "cell_type": "code",
      "execution_count": 9,
      "metadata": {
        "colab": {
          "base_uri": "https://localhost:8080/"
        },
        "id": "v84DKTwMNqlv",
        "outputId": "2f929bca-096b-41d8-b9f2-d80e1a4bf1a7"
      },
      "outputs": [
        {
          "output_type": "stream",
          "name": "stdout",
          "text": [
            "y_train_encoded shape: (60000, 10)\n",
            "y_test_encoded shape: (10000, 10)\n",
            "Example of encoded label: [0. 0. 0. 0. 0. 1. 0. 0. 0. 0.]\n"
          ]
        }
      ],
      "source": [
        "# Validate the shapes of the encoded labels arrays.\n",
        "print('y_train_encoded shape:', y_train_encoded.shape)\n",
        "print('y_test_encoded shape:', y_test_encoded.shape)\n",
        "\n",
        "# Display an example of an encoded label.\n",
        "print('Example of encoded label:', y_train_encoded[0])"
      ]
    },
    {
      "cell_type": "markdown",
      "metadata": {
        "id": "kP8pztBmNqlv"
      },
      "source": [
        "### Display Encoded Labels"
      ]
    },
    {
      "cell_type": "code",
      "execution_count": 10,
      "metadata": {
        "colab": {
          "base_uri": "https://localhost:8080/"
        },
        "id": "R5BD688_Nqlv",
        "outputId": "76b3a0fa-37c9-415a-9399-8889a054c936"
      },
      "outputs": [
        {
          "output_type": "execute_result",
          "data": {
            "text/plain": [
              "array([0., 0., 0., 0., 0., 1., 0., 0., 0., 0.], dtype=float32)"
            ]
          },
          "metadata": {},
          "execution_count": 10
        }
      ],
      "source": [
        "y_train_encoded[0]"
      ]
    },
    {
      "cell_type": "markdown",
      "metadata": {
        "id": "KGUSj7lHNqlv"
      },
      "source": [
        "# Task 4: Preprocessing the Examples\n",
        "\n",
        "### Unrolling N-dimensional Arrays to Vectors"
      ]
    },
    {
      "cell_type": "code",
      "execution_count": 11,
      "metadata": {
        "colab": {
          "base_uri": "https://localhost:8080/"
        },
        "id": "xogYntl-Nqlw",
        "outputId": "42d7d5b9-308f-4e3d-a9c5-f941bc5c8927"
      },
      "outputs": [
        {
          "output_type": "stream",
          "name": "stdout",
          "text": [
            "x_train reshaped: (60000, 784)\n",
            "x_test reshaped: (10000, 784)\n"
          ]
        }
      ],
      "source": [
        "# Unroll the 28x28 images into 784-dimensional vectors.\n",
        "import numpy as np\n",
        "\n",
        "x_train_reshaped = np.reshape(x_train, (60000, 784))\n",
        "x_test_reshaped = np.reshape(x_test, (10000, 784))\n",
        "\n",
        "print('x_train reshaped:', x_train_reshaped.shape)\n",
        "print('x_test reshaped:', x_test_reshaped.shape)\n",
        "\n",
        "\n"
      ]
    },
    {
      "cell_type": "markdown",
      "metadata": {
        "id": "awB14QM7Nqlw"
      },
      "source": [
        "### Display Pixel Values"
      ]
    },
    {
      "cell_type": "code",
      "execution_count": 12,
      "metadata": {
        "colab": {
          "base_uri": "https://localhost:8080/"
        },
        "id": "txPX3TvVNqlw",
        "outputId": "0e1c899d-5886-4384-e7e7-7ef1a9433942"
      },
      "outputs": [
        {
          "output_type": "stream",
          "name": "stdout",
          "text": [
            "Unique pixel values in the first test image: {0, 129, 1, 3, 133, 5, 9, 140, 14, 17, 18, 19, 21, 22, 151, 159, 31, 163, 36, 35, 166, 38, 40, 170, 44, 52, 182, 185, 58, 59, 60, 187, 62, 57, 61, 66, 67, 198, 72, 75, 203, 205, 77, 207, 209, 83, 84, 219, 221, 222, 224, 225, 121, 227, 126, 229, 233, 106, 236, 238, 240, 241, 114, 115, 242, 248, 249, 250, 251, 253, 254, 255}\n"
          ]
        }
      ],
      "source": [
        "# Display the unique pixel values in the first test image after reshaping.\n",
        "print('Unique pixel values in the first test image:', set(x_test_reshaped[0]))"
      ]
    },
    {
      "cell_type": "markdown",
      "metadata": {
        "id": "UU85ujoZNqlw"
      },
      "source": [
        "### Data Normalization"
      ]
    },
    {
      "cell_type": "code",
      "execution_count": 13,
      "metadata": {
        "id": "CVUOCoWJNqlw"
      },
      "outputs": [],
      "source": [
        "# Normalize the pixel values of the images to have a mean of 0 and standard deviation of 1.\n",
        "epsilon = 1e-10\n",
        "x_mean = np.mean(x_train_reshaped)\n",
        "x_std = np.std(x_train_reshaped)\n",
        "\n",
        "x_train_norm = (x_train_reshaped - x_mean) / (x_std + epsilon)\n",
        "x_test_norm = (x_test_reshaped - x_mean) / (x_std + epsilon)\n",
        "\n"
      ]
    },
    {
      "cell_type": "code",
      "execution_count": null,
      "metadata": {
        "id": "SjyyltcHNqlw"
      },
      "outputs": [],
      "source": []
    },
    {
      "cell_type": "markdown",
      "metadata": {
        "id": "EyH6mOwZNqlw"
      },
      "source": [
        "### Display Normalized Pixel Values"
      ]
    },
    {
      "cell_type": "code",
      "execution_count": 14,
      "metadata": {
        "colab": {
          "base_uri": "https://localhost:8080/"
        },
        "id": "ercGqpBmNqlx",
        "outputId": "13ead0f2-5afc-43da-9bc9-a60a94ea6dc0"
      },
      "outputs": [
        {
          "output_type": "stream",
          "name": "stdout",
          "text": [
            "Unique normalized pixel values in the first training image: {-0.38589016215482896, 1.306921966983251, 1.17964285952926, 1.803310486053816, 1.6887592893452241, 2.8215433456857437, 2.719720059722551, 1.1923707702746593, 1.7396709323268205, 2.057868700961798, 2.3633385588513764, 2.096052433197995, 1.7651267538176187, 2.7960875241949457, 2.7451758812133495, 2.45243393406917, 0.02140298169794222, -0.22042732246464067, 1.2305545025108566, 0.2759611966059242, 2.210603629906587, 2.6560805059955555, 2.6051688630139593, -0.4240738943910262, 0.4668798577869107, 0.1486820891519332, 0.3905123933145161, 1.0905474843114664, -0.09314821501064967, 1.4851127174188385, 2.7579037919587486, 1.5360243604004349, 0.07231462467953861, -0.13133194724684696, 1.294194056237852, 0.03413089244334132, 1.3451056992194483, 2.274243183633583, -0.24588314395543887, 0.772349715676489, 0.75962180493109, 0.7214380726948927, 0.1995937321335296, -0.41134598364562713, 0.5687031437501034, 0.5941589652409017, 0.9378125553666773, 0.9505404661120763, 0.6068868759863008, 0.4159682148053143, -0.042236572029053274, 2.7706317027041476, 2.1342361654341926, 0.12322626766113501, -0.08042030426525057, 0.16140999989733232, 1.8924058612716097, 1.2560103240016547, 2.185147808415789, 0.6196147867316999, 1.943317504253206, -0.11860403650144787, -0.30952269768243434, 1.9942291472348024, -0.2840668761916362, 2.6306246845047574, 2.286971094378982, -0.19497150097384247, -0.39861807290022805, 0.2886891073513233, 1.7523988430722195, 2.3887943803421745, 2.681536327486354, 1.4596568959280403, 2.439706023323771, 2.7833596134495466, 2.490617666305367, -0.10587612575604877, 1.5614801818912332, 1.9051337720170087, 1.6123918248728295, 1.268738234747054, 1.9560454149986053, 2.6433525952501564, 1.026907930584471}\n"
          ]
        }
      ],
      "source": [
        "# Display the unique normalized pixel values in the first training image.\n",
        "print('Unique normalized pixel values in the first training image:', set(x_train_norm[0]))\n"
      ]
    },
    {
      "cell_type": "markdown",
      "metadata": {
        "id": "BWd9K_lNNqlx"
      },
      "source": [
        "# Task 6: Creating a Model\n",
        "### Creating the Model"
      ]
    },
    {
      "cell_type": "code",
      "execution_count": 15,
      "metadata": {
        "id": "9QI0S4wVNqlx"
      },
      "outputs": [],
      "source": [
        "# Define a Sequential model with two dense hidden layers and an output layer with softmax activation.\n",
        "from tensorflow.keras.models import Sequential\n",
        "from tensorflow.keras.layers import Dense\n",
        "\n",
        "model = Sequential([\n",
        "    Dense(128, activation='relu', input_shape=(784,)),\n",
        "    Dense(128, activation='relu'),\n",
        "    Dense(10, activation='softmax'),\n",
        "])"
      ]
    },
    {
      "cell_type": "markdown",
      "metadata": {
        "id": "hH37VxfwNqlx"
      },
      "source": [
        "### Activation Functions\n",
        "\n",
        "The first step in the node is the linear sum of the inputs:\n",
        "\\begin{equation}\n",
        "Z = W . X + b\n",
        "\\end{equation}\n",
        "\n",
        "The second step in the node is the activation function output:\n",
        "\n",
        "\\begin{equation}\n",
        "A = f(Z)\n",
        "\\end{equation}\n",
        "\n",
        "Graphical representation of a node where the two operations are performed:\n",
        "\n",
        "![ReLU](images/1_5.png)\n",
        "\n",
        "### Compiling the Model"
      ]
    },
    {
      "cell_type": "code",
      "execution_count": 16,
      "metadata": {
        "colab": {
          "base_uri": "https://localhost:8080/"
        },
        "id": "surN67bMNqlx",
        "outputId": "ba13f08e-4dc0-45b9-8565-82dd30e1104d"
      },
      "outputs": [
        {
          "output_type": "stream",
          "name": "stdout",
          "text": [
            "Model: \"sequential\"\n",
            "_________________________________________________________________\n",
            " Layer (type)                Output Shape              Param #   \n",
            "=================================================================\n",
            " dense (Dense)               (None, 128)               100480    \n",
            "                                                                 \n",
            " dense_1 (Dense)             (None, 128)               16512     \n",
            "                                                                 \n",
            " dense_2 (Dense)             (None, 10)                1290      \n",
            "                                                                 \n",
            "=================================================================\n",
            "Total params: 118282 (462.04 KB)\n",
            "Trainable params: 118282 (462.04 KB)\n",
            "Non-trainable params: 0 (0.00 Byte)\n",
            "_________________________________________________________________\n"
          ]
        }
      ],
      "source": [
        "# Compile the model specifying the optimizer, loss function, and metrics to track.\n",
        "model.compile(optimizer='sgd', loss='categorical_crossentropy', metrics=['accuracy'])\n",
        "\n",
        "# Print a summary of the model to check its architecture.\n",
        "model.summary()"
      ]
    },
    {
      "cell_type": "markdown",
      "metadata": {
        "id": "8gf4F6LiNqlx"
      },
      "source": [
        "# Task 7: Training the Model\n",
        "\n",
        "### Training the Model"
      ]
    },
    {
      "cell_type": "code",
      "execution_count": 17,
      "metadata": {
        "colab": {
          "base_uri": "https://localhost:8080/"
        },
        "id": "d6Ocj226Nqlx",
        "outputId": "177df2ae-1ce7-4d97-a80e-62c59d8e5637"
      },
      "outputs": [
        {
          "output_type": "stream",
          "name": "stdout",
          "text": [
            "Epoch 1/3\n",
            "1875/1875 [==============================] - 9s 4ms/step - loss: 0.3609 - accuracy: 0.8953\n",
            "Epoch 2/3\n",
            "1875/1875 [==============================] - 5s 3ms/step - loss: 0.1832 - accuracy: 0.9470\n",
            "Epoch 3/3\n",
            "1875/1875 [==============================] - 5s 3ms/step - loss: 0.1400 - accuracy: 0.9591\n"
          ]
        },
        {
          "output_type": "execute_result",
          "data": {
            "text/plain": [
              "<keras.src.callbacks.History at 0x79b1b9673100>"
            ]
          },
          "metadata": {},
          "execution_count": 17
        }
      ],
      "source": [
        "# Train the model on the normalized training set.\n",
        "model.fit(x_train_norm, y_train_encoded, epochs=3)\n",
        "\n"
      ]
    },
    {
      "cell_type": "markdown",
      "metadata": {
        "id": "nyUv1NtHNqly"
      },
      "source": [
        "### Evaluating the Model"
      ]
    },
    {
      "cell_type": "code",
      "execution_count": null,
      "metadata": {
        "id": "0GL4iYY5Nqly",
        "outputId": "ab8997d9-a401-4a8a-d316-41c5c572e228"
      },
      "outputs": [
        {
          "name": "stdout",
          "output_type": "stream",
          "text": [
            "10000/10000 [==============================] - 1s 89us/sample - loss: 0.1284 - acc: 0.9590\n",
            "Test set accuracy:  95.89999914169312\n"
          ]
        }
      ],
      "source": [
        "# Evaluate the model on the normalized test set and print the accuracy.\n",
        "_, accuracy = model.evaluate(x_test_norm, y_test_encoded)\n",
        "print('Test set accuracy:', accuracy * 100)"
      ]
    },
    {
      "cell_type": "markdown",
      "metadata": {
        "id": "RuI__QsUNqly"
      },
      "source": [
        "# Task 8: Predictions\n",
        "\n",
        "### Predictions on Test Set"
      ]
    },
    {
      "cell_type": "code",
      "execution_count": 18,
      "metadata": {
        "colab": {
          "base_uri": "https://localhost:8080/"
        },
        "id": "hrJ1NB-2Nqly",
        "outputId": "b8e932b0-1675-4a8b-9558-3c53ed52d3ba"
      },
      "outputs": [
        {
          "output_type": "stream",
          "name": "stdout",
          "text": [
            "313/313 [==============================] - 1s 2ms/step\n",
            "Shape of predictions: (10000, 10)\n"
          ]
        }
      ],
      "source": [
        "# Make predictions on the normalized test set.\n",
        "predictions = model.predict(x_test_norm)\n",
        "print('Shape of predictions:', predictions.shape)\n"
      ]
    },
    {
      "cell_type": "markdown",
      "metadata": {
        "id": "05Bae974Nql2"
      },
      "source": [
        "### Plotting the Results"
      ]
    },
    {
      "cell_type": "code",
      "execution_count": null,
      "metadata": {
        "id": "NLgZBNcWNql2"
      },
      "outputs": [],
      "source": [
        "# Plot the first 25 test images, their predicted labels, and the true labels.\n",
        "# Color the predictions in green if correct, and red if incorrect.\n",
        "plt.figure(figsize=(12, 12))\n",
        "start_index = 0\n",
        "\n",
        "for i in range(25):\n",
        "    plt.subplot(5, 5, i + 1)\n",
        "    plt.grid(False)\n",
        "    plt.xticks([])\n",
        "    plt.yticks([])\n",
        "\n",
        "    pred = np.argmax(predictions[start_index + i])\n",
        "    ground_truth = y_test[start_index + i]"
      ]
    },
    {
      "cell_type": "code",
      "execution_count": null,
      "metadata": {
        "id": "zeRX6hsONql2"
      },
      "outputs": [],
      "source": [
        "plt.plot(predictions[8])\n",
        "plt.show()"
      ]
    },
    {
      "cell_type": "code",
      "execution_count": null,
      "metadata": {
        "id": "QT1V16_UNql2"
      },
      "outputs": [],
      "source": []
    }
  ],
  "metadata": {
    "kernelspec": {
      "display_name": "Python 3",
      "language": "python",
      "name": "python3"
    },
    "language_info": {
      "codemirror_mode": {
        "name": "ipython",
        "version": 3
      },
      "file_extension": ".py",
      "mimetype": "text/x-python",
      "name": "python",
      "nbconvert_exporter": "python",
      "pygments_lexer": "ipython3",
      "version": "3.7.3"
    },
    "colab": {
      "provenance": []
    }
  },
  "nbformat": 4,
  "nbformat_minor": 0
}